{
 "cells": [
  {
   "cell_type": "code",
   "execution_count": 3,
   "metadata": {},
   "outputs": [
    {
     "name": "stdout",
     "output_type": "stream",
     "text": [
      "Calendar for Person 1 : \n",
      "10:00-10:30,11:00-12:30,12:30-13:00,14:00-16:00\n",
      "\n",
      "Calendar for Person 2 : \n",
      "09:00-09:30,10:00-10:30,12:45-13:15,15:00-17:00\n",
      "\n"
     ]
    }
   ],
   "source": [
    "p1_cal = '10:00-10:30,11:00-12:30,12:30-13:00,14:00-16:00'\n",
    "#x = '11:00-11:30,12:00-13:00'\n",
    "p2_cal = '09:00-09:30,10:00-10:30,12:45-13:15,15:00-17:00'\n",
    "#y = '13:00-14:00'\n",
    "p1_avail = '08:00-16:00'\n",
    "p2_avail = '10:00-17:00'\n",
    "start_time = end_time = ''\n",
    "avail = []\n",
    "print ('Calendar for Person 1 : \\n', p1_cal, '\\n', sep='')\n",
    "print ('Calendar for Person 2 : \\n', p2_cal, '\\n', sep='')"
   ]
  },
  {
   "cell_type": "code",
   "execution_count": 4,
   "metadata": {},
   "outputs": [],
   "source": [
    "start_time = p1_avail[:5] if p1_avail[:5] > p2_avail[:5] else p2_avail[:5]\n",
    "end_time   = p1_avail[6:] if p1_avail[6:] < p2_avail[6:] else p2_avail[6:]\n",
    "#merge person 1 and person 2 calendar, then sort in ascending order of blocked time\n",
    "temp = p1_cal.split(',') + p2_cal.split(',')\n",
    "temp.sort()\n",
    "temp = [i.split('-') for i in temp]"
   ]
  },
  {
   "cell_type": "code",
   "execution_count": 5,
   "metadata": {},
   "outputs": [
    {
     "name": "stdout",
     "output_type": "stream",
     "text": [
      "[['09:00', '09:30'], ['10:00', '10:30'], ['10:00', '10:30'], ['11:00', '12:30'], ['12:30', '13:00'], ['12:45', '13:15'], ['14:00', '16:00'], ['15:00', '17:00']]\n"
     ]
    }
   ],
   "source": [
    "print(temp)"
   ]
  },
  {
   "cell_type": "code",
   "execution_count": 6,
   "metadata": {},
   "outputs": [
    {
     "name": "stdout",
     "output_type": "stream",
     "text": [
      "Both individuals are available betweeen : 10:00 and 16:00 \n",
      "\n"
     ]
    }
   ],
   "source": [
    "#If first meeting starts later in the day,\n",
    "#then add availability for beginning of day\n",
    "if start_time < temp[0][0]: avail.append([start_time,temp[0][0]])\n",
    "print ('Both individuals are available betweeen :',\n",
    "       start_time,'and', end_time, '\\n')"
   ]
  },
  {
   "cell_type": "code",
   "execution_count": 7,
   "metadata": {},
   "outputs": [],
   "source": [
    "#loop thru merged calendar to remove overlapping times\n",
    "#if start time of next meeting is before end time of previous meeting,\n",
    "#then ignore start time of next meeting\n",
    "i = 0\n",
    "while i < len(temp)-1:\n",
    "    if temp[i][1] >= temp[i+1][1]:\n",
    "        del temp[i+1]\n",
    "        continue\n",
    "    if temp[i][1] > temp[i+1][0]: temp[i+1][0] = temp[i][1]\n",
    "    i +=1"
   ]
  },
  {
   "cell_type": "code",
   "execution_count": 9,
   "metadata": {},
   "outputs": [],
   "source": [
    "#above loop provides all blocked time\n",
    "#if end time of one meeting is start time of next meeting, ignore\n",
    "#if there is a gap and the gap is between acceptable window,\n",
    "#then add this window to availability\n",
    "for i in range(len(temp)-1):\n",
    "    if temp[i][1] == temp[i+1][0]: continue\n",
    "    elif start_time <= temp[i][1] and end_time >= temp[i+1][0]: avail.append([temp[i][1],temp[i+1][0]])"
   ]
  },
  {
   "cell_type": "code",
   "execution_count": 10,
   "metadata": {},
   "outputs": [
    {
     "name": "stdout",
     "output_type": "stream",
     "text": [
      "Available schedule for meetings for both individuals are: \n",
      "['10:30', '11:00']\t['13:15', '14:00']\t['10:30', '11:00']\t['13:15', '14:00']\t"
     ]
    }
   ],
   "source": [
    "#If last meeting ends before end of the day,\n",
    "#then add availability for remaining part of day\n",
    "    \n",
    "if end_time > temp[len(temp)-1][1]: avail.append([temp[len(temp)-1][1],end_time])\n",
    "print ('Available schedule for meetings for both individuals are: ')\n",
    "for i in avail: print (i,end='\\t')"
   ]
  },
  {
   "cell_type": "code",
   "execution_count": null,
   "metadata": {},
   "outputs": [],
   "source": []
  },
  {
   "cell_type": "code",
   "execution_count": null,
   "metadata": {},
   "outputs": [],
   "source": []
  },
  {
   "cell_type": "code",
   "execution_count": null,
   "metadata": {},
   "outputs": [],
   "source": []
  },
  {
   "cell_type": "code",
   "execution_count": null,
   "metadata": {},
   "outputs": [],
   "source": []
  }
 ],
 "metadata": {
  "kernelspec": {
   "display_name": "Python 3",
   "language": "python",
   "name": "python3"
  },
  "language_info": {
   "codemirror_mode": {
    "name": "ipython",
    "version": 3
   },
   "file_extension": ".py",
   "mimetype": "text/x-python",
   "name": "python",
   "nbconvert_exporter": "python",
   "pygments_lexer": "ipython3",
   "version": "3.8.3"
  }
 },
 "nbformat": 4,
 "nbformat_minor": 4
}
